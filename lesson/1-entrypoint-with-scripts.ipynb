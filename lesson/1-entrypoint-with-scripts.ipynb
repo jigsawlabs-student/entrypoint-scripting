{
 "cells": [
  {
   "cell_type": "markdown",
   "id": "876da35c-9842-4bd0-b474-d6189590813d",
   "metadata": {},
   "source": [
    "# Docker Entrypoint with Scripts"
   ]
  },
  {
   "cell_type": "markdown",
   "id": "6dade9f7-dffc-4716-9b89-e43f4f05f8d2",
   "metadata": {},
   "source": [
    "### Introduction"
   ]
  },
  {
   "cell_type": "markdown",
   "id": "c16ecd89-cce5-4e87-b992-2fc814dbe455",
   "metadata": {},
   "source": [
    "So in the last lesson, we saw how Entrypoint is a Docker command that is run at runtime, and that we can pass additional arguments to at runtime.  In this lesson, we'll see how we can use Entrypoint to set up our web applications."
   ]
  },
  {
   "cell_type": "markdown",
   "id": "6858e73f-2030-4208-95c7-3b115e9e5410",
   "metadata": {},
   "source": [
    "### An Entrypoint Usecase"
   ]
  },
  {
   "cell_type": "markdown",
   "id": "e2827eb3-f2ac-4208-8d2b-4110301c285a",
   "metadata": {},
   "source": [
    "Ok, so remember that what's unique about entrypoint is that, unlike CMD, it cannot be overridden.   It is always run when booting up a container.  So when working with a web application, a typical usecase would be some initial setup.  \n",
    "\n",
    "For example, we may need to create and seed our database before running our flask application.  So let's say that we want to **create our database** always, and then run flask as default.\n",
    "\n",
    "> Instead of really creating a database we'll just use `echo \"create database\"` to mock it."
   ]
  },
  {
   "cell_type": "markdown",
   "id": "4470e2e4-0757-47aa-9504-9386929409ca",
   "metadata": {},
   "source": [
    "Our thought may be to set up our Dockerfile with the following."
   ]
  },
  {
   "cell_type": "markdown",
   "id": "24fef64c-5042-4519-b961-9ce537e13320",
   "metadata": {},
   "source": [
    "```bash\n",
    "ENTRYPOINT [\"echo\", \"create database\"]\n",
    "\n",
    "CMD [\"flask\", \"run\"]\n",
    "```"
   ]
  },
  {
   "cell_type": "markdown",
   "id": "495a7243-44f2-4ed8-9896-5b5d7f6d79f2",
   "metadata": {},
   "source": [
    "So the thought is to always create the database, and then, with CMD we can *by default* run flask.  But if we build and run this Dockerfile (specified in `web_app/app)`, you'll see the following."
   ]
  },
  {
   "cell_type": "markdown",
   "id": "584696d9-38c5-4eb0-a8f4-fd853542d6aa",
   "metadata": {},
   "source": [
    "```bash\n",
    "docker build -t web_app_sh .\n",
    "```"
   ]
  },
  {
   "cell_type": "markdown",
   "id": "bc787b46-b9e1-4d03-a754-df8ebfdcb8d3",
   "metadata": {},
   "source": [
    "<img src=\"./flask-output.png\" width=\"60%\">"
   ]
  },
  {
   "cell_type": "markdown",
   "id": "8e7882db-2e95-499a-b088-768755895048",
   "metadata": {},
   "source": [
    "Ok, so once you call `docker run web_app_sh`, you'll see flask is never booted up.  Instead we just get `create database flask run` echoed to our terminal.  \n",
    "\n",
    "Do you see why?\n",
    "\n",
    "Remember that, when used with Entrypoint, whatever we provide in CMD is not separately run, but rather passed through as an additional argument to `echo \"create database\"`."
   ]
  },
  {
   "cell_type": "markdown",
   "id": "f24848c0-970a-48d7-939f-10d17a6a15de",
   "metadata": {},
   "source": [
    "### The Fix"
   ]
  },
  {
   "cell_type": "markdown",
   "id": "f734624b-db9e-4daa-bbe5-4657dba5dd5c",
   "metadata": {},
   "source": [
    "We can get around this if we move this `\"echo\", \"create database\"` line to a separate initialization script.  Let's see how we can do this.\n",
    "\n",
    "In the app folder, create a new file called `setup.sh` (the name isn't important, so long as it ends with `.sh`).  And in the `setup.sh` file we can place our initialization lines:\n",
    "\n",
    "```bash\n",
    "echo \"create database\"\n",
    "\n",
    "exec \"$@\"\n",
    "```\n",
    "\n",
    "And if we want Docker to run this script at runtime, then we change the last four lines of our Dockerfile to the following:\n",
    "\n",
    "```Dockerfile\n",
    "RUN pip3 install -r requirements.txt\n",
    "\n",
    "COPY ./setup.sh .\n",
    "\n",
    "ENTRYPOINT [\"sh\", \"./setup.sh\"]\n",
    "\n",
    "CMD [\"flask\", \"run\"]\n",
    "```"
   ]
  },
  {
   "cell_type": "markdown",
   "id": "245bcd0e-0d73-4a98-9ae2-cb65ac18f3bb",
   "metadata": {},
   "source": [
    "Ok, so the above will work fine.  But before moving on, let's explain that initialization script."
   ]
  },
  {
   "cell_type": "markdown",
   "id": "f1ad999d-2c50-47ce-a2f4-ebb56ce3829f",
   "metadata": {},
   "source": [
    "### Breaking down the Setup script"
   ]
  },
  {
   "cell_type": "markdown",
   "id": "1eda07ed-a709-44b8-9dea-eb314c65ed58",
   "metadata": {},
   "source": [
    "So currently our setup script looks like the following:"
   ]
  },
  {
   "cell_type": "markdown",
   "id": "041ae3a5-e21f-4a51-ac27-a340486af5a8",
   "metadata": {},
   "source": [
    "```bash\n",
    "echo \"create database\"\n",
    "\n",
    "exec \"$@\"\n",
    "```"
   ]
  },
  {
   "cell_type": "markdown",
   "id": "ff5e450f-916f-4978-aa9d-fcc052219032",
   "metadata": {},
   "source": [
    "Ok, so we are beginning with our usual task of creating the database.  And then have that mysterious `exec \"$@\"` line.\n",
    "\n",
    "1. Understanding `exec`\n",
    "\n",
    "In a bash script the `exec` script will run any command that is passed in as arguments and will not proceed with further with running any additional lines.  Notice, in `web_app` we have provided you with a `practice.sh` script that has the following.\n",
    "\n",
    "```bash\n",
    "echo \"create database\"\n",
    "\n",
    "exec echo foo\n",
    "\n",
    "echo \"bar\"\n",
    "```"
   ]
  },
  {
   "cell_type": "markdown",
   "id": "059b7a60-6268-4ac1-ab94-806705e74edf",
   "metadata": {},
   "source": [
    "And if you run `sh practice.sh`, notice that `echo foo` is run but `echo bar` is not."
   ]
  },
  {
   "cell_type": "markdown",
   "id": "ffc4e385-bf3f-41f7-9f50-5fc4e68430cb",
   "metadata": {},
   "source": [
    "<img src=\"./practice-app.png\" width=\"60%\">"
   ]
  },
  {
   "cell_type": "markdown",
   "id": "4bd5d25f-bd2c-4163-ac71-100d5c18b5d1",
   "metadata": {},
   "source": [
    "2. Understanding `\"$@\"`"
   ]
  },
  {
   "cell_type": "markdown",
   "id": "014463db-55ee-4a26-8881-1a223b4070a6",
   "metadata": {},
   "source": [
    "Ok, so now update the `practice.sh` file to be the following:\n",
    "\n",
    "```bash\n",
    "echo \"create database\"\n",
    "\n",
    "exec \"$@\"\n",
    "```"
   ]
  },
  {
   "cell_type": "markdown",
   "id": "10e17048-c983-4cb5-9840-833b1a42a434",
   "metadata": {},
   "source": [
    "The `\"$@\"` means to read in command line arguments passed in when running the file.  For example, run the following:"
   ]
  },
  {
   "cell_type": "markdown",
   "id": "3bb1ca9f-b1f5-41b1-b04c-2c7433d2850d",
   "metadata": {},
   "source": [
    "`sh practice.sh echo hello world`"
   ]
  },
  {
   "cell_type": "markdown",
   "id": "d662922e-1736-4d31-85ad-06447ae59fdc",
   "metadata": {},
   "source": [
    "<img src=\"./hello-bash.png\">"
   ]
  },
  {
   "cell_type": "markdown",
   "id": "23b1fd32-60f8-4640-87ac-83935f0f165d",
   "metadata": {},
   "source": [
    "So in this case, we are running the `practice.sh` file, which allows us to see `create database`, and then we are running `echo hello world`, as that's what's being passed through with `sh practice.sh echo hello world`."
   ]
  },
  {
   "cell_type": "markdown",
   "id": "bd1a9934-3b7a-41cc-946e-6e1d6145701c",
   "metadata": {},
   "source": [
    "### Back to our Dockerfile"
   ]
  },
  {
   "cell_type": "markdown",
   "id": "c42982be-112a-4047-b281-a44194df68e9",
   "metadata": {},
   "source": [
    "So let's take another look at our `Dockerfile` updates."
   ]
  },
  {
   "cell_type": "markdown",
   "id": "20c88558-9f1e-44ef-bca7-0f9faad78bac",
   "metadata": {},
   "source": [
    "```Dockerfile\n",
    "RUN pip3 install -r requirements.txt\n",
    "\n",
    "COPY ./setup.sh .\n",
    "\n",
    "ENTRYPOINT [\"sh\", \"./setup.sh\"]\n",
    "\n",
    "CMD [\"flask\", \"run\"]\n",
    "```"
   ]
  },
  {
   "cell_type": "markdown",
   "id": "80aae48f-4d2f-4634-8dd7-7ba30665238a",
   "metadata": {},
   "source": [
    "And remember `setup.sh` has the following:"
   ]
  },
  {
   "cell_type": "markdown",
   "id": "5308aaf1-71dd-4ccf-b7da-8951e8c92d7f",
   "metadata": {},
   "source": [
    "```bash\n",
    "echo \"create database\"\n",
    "\n",
    "exec \"$@\"\n",
    "```"
   ]
  },
  {
   "cell_type": "markdown",
   "id": "9ceb5ae6-1db1-4629-b476-f26959cfd28c",
   "metadata": {},
   "source": [
    "So above, `flask run` is passed as a default argument to `Entrypoint [\"sh\", \"./setup.sh\"]`, meaning that by default we are running: \n",
    "\n",
    "* `sh ./setup.sh flask run`\n",
    "\n",
    "And this is then interpreted by our `setup.sh` file as:\n",
    "\n",
    "```bash\n",
    "echo \"create database\"\n",
    "\n",
    "flask run\n",
    "```\n",
    "\n",
    "And what's nice is that if we provide a arguments when booting up our flask container, these arguments will be executed by the `setup.sh` script.\n",
    "\n",
    "Try this out, let's run our docker container without any arguments."
   ]
  },
  {
   "cell_type": "markdown",
   "id": "d1c2003f-b77d-4e9e-a294-7cfcfcbad0fe",
   "metadata": {},
   "source": [
    "```bash\n",
    "docker build -t web_app_sh .\n",
    "```"
   ]
  },
  {
   "cell_type": "markdown",
   "id": "89a3662e-8cc6-4e92-adc0-5554105623b9",
   "metadata": {},
   "source": [
    "```bash\n",
    "docker run web_app_sh\n",
    "```"
   ]
  },
  {
   "cell_type": "markdown",
   "id": "71443ce9-3115-41dd-9afb-46f06a39a1ed",
   "metadata": {},
   "source": [
    "<img src=\"./docker-run.png\">"
   ]
  },
  {
   "cell_type": "markdown",
   "id": "ab517822-a825-4ea1-a011-5e83c43038bf",
   "metadata": {},
   "source": [
    "And then, we can provide additional arguments, which will over-ride what is specifed in CMD."
   ]
  },
  {
   "cell_type": "markdown",
   "id": "828c6140-52ca-4ef3-bd3b-dab9469948f1",
   "metadata": {},
   "source": [
    "```bash\n",
    "docker run -it web_app_sh sh\n",
    "```"
   ]
  }
 ],
 "metadata": {
  "kernelspec": {
   "display_name": "Python 3 (ipykernel)",
   "language": "python",
   "name": "python3"
  },
  "language_info": {
   "codemirror_mode": {
    "name": "ipython",
    "version": 3
   },
   "file_extension": ".py",
   "mimetype": "text/x-python",
   "name": "python",
   "nbconvert_exporter": "python",
   "pygments_lexer": "ipython3",
   "version": "3.10.13"
  }
 },
 "nbformat": 4,
 "nbformat_minor": 5
}
